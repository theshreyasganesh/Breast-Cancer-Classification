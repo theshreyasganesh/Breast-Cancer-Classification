{
 "cells": [
  {
   "cell_type": "code",
   "execution_count": 9,
   "metadata": {},
   "outputs": [],
   "source": [
    "import pandas as pd\n",
    "import numpy as np\n",
    "from PIL import Image\n",
    "import os\n",
    "from tqdm import tqdm"
   ]
  },
  {
   "cell_type": "code",
   "execution_count": 10,
   "metadata": {},
   "outputs": [
    {
     "name": "stderr",
     "output_type": "stream",
     "text": [
      "100%|████████████████████████████████████████████████████████████████████████████████| 322/322 [00:35<00:00,  9.01it/s]\n"
     ]
    }
   ],
   "source": [
    "dump_path = \"D:\\Research_papers\\MIAS_DUMP\\\\\"\n",
    "mias_path = r\"D:\\Research_papers\\MIAS\\all-mias\"\n",
    "\n",
    "for file in tqdm(os.listdir(mias_path)):\n",
    "    filename, extension  = os.path.splitext(file)\n",
    "    if extension == \".pgm\":\n",
    "        new_file = \"{}.png\".format(filename)\n",
    "        file = mias_path + \"\\\\\"+file\n",
    "        with Image.open(file) as im:\n",
    "            im.save(dump_path+new_file)"
   ]
  },
  {
   "cell_type": "code",
   "execution_count": null,
   "metadata": {},
   "outputs": [],
   "source": []
  }
 ],
 "metadata": {
  "kernelspec": {
   "display_name": "Python 3",
   "language": "python",
   "name": "python3"
  },
  "language_info": {
   "codemirror_mode": {
    "name": "ipython",
    "version": 3
   },
   "file_extension": ".py",
   "mimetype": "text/x-python",
   "name": "python",
   "nbconvert_exporter": "python",
   "pygments_lexer": "ipython3",
   "version": "3.8.5"
  }
 },
 "nbformat": 4,
 "nbformat_minor": 4
}
